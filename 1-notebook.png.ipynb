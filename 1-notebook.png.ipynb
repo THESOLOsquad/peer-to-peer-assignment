{
  "metadata": {
    "language_info": {
      "codemirror_mode": {
        "name": "python",
        "version": 3
      },
      "file_extension": ".py",
      "mimetype": "text/x-python",
      "name": "python",
      "nbconvert_exporter": "python",
      "pygments_lexer": "ipython3",
      "version": "3.8"
    },
    "kernelspec": {
      "name": "python",
      "display_name": "Python (Pyodide)",
      "language": "python"
    }
  },
  "nbformat_minor": 4,
  "nbformat": 4,
  "cells": [
    {
      "cell_type": "markdown",
      "source": "Data Science Tools and Ecosystem",
      "metadata": {}
    },
    {
      "cell_type": "markdown",
      "source": "2.Create a markdown cell for an introduction.\n\nIn this notebook, Data Science Tools and Ecosystem are summarized.\n\nObjectives:\n\n    List popular languages that Data Scientists use.\n    List commonly used libraries used by Data Scientists.\n    Comment on Data Science tools.\n\n",
      "metadata": {}
    },
    {
      "cell_type": "markdown",
      "source": " 3.Create a markdown cell to list data science languages.\n \n Some of the popular languages that Data Scientists use are:\n\n    Python.\n    R.\n    SQL.\n    Java.\n    Julia.\n    Scala.",
      "metadata": {}
    },
    {
      "cell_type": "markdown",
      "source": "4. Create a markdown cell to list data science libraries.\nSome of the commonly used libraries used by Data Scientists include:\n\n    TensorFlow.\n    NumPy.\n    SciPy.\n    Pandas.\n    Matplotlib.\n    Keras.\n    SciKit-Learn.\n",
      "metadata": {}
    },
    {
      "cell_type": "markdown",
      "source": "5.Create a markdown cell with a table of Data Science tools\n|Data science tool |\n|-----|\n|SAS. It is one of those data science tools which are specifically designed for statistical operation |\n|Apache Spark|\n|BigML|",
      "metadata": {}
    },
    {
      "cell_type": "markdown",
      "source": "6. Create a markdown cell introducing arithmetic expression examples",
      "metadata": {}
    },
    {
      "cell_type": "code",
      "source": "# Arithmetic operations\nprint(2+3+5)\n# Result: 10",
      "metadata": {
        "trusted": true
      },
      "execution_count": 1,
      "outputs": [
        {
          "name": "stdout",
          "text": "10\n",
          "output_type": "stream"
        }
      ]
    },
    {
      "cell_type": "code",
      "source": "# multiple and add two number \nprint((2+3)*2*2)\n#result: 20",
      "metadata": {
        "trusted": true
      },
      "execution_count": 2,
      "outputs": [
        {
          "name": "stdout",
          "text": "20\n",
          "output_type": "stream"
        }
      ]
    },
    {
      "cell_type": "markdown",
      "source": "8. Create a code cell to convert minutes to hours",
      "metadata": {}
    },
    {
      "cell_type": "code",
      "source": "# we know 1 hr=60min\n# so 1 min = (1/60 )hr  that is \nminutes_in_hour=100\nconvert_min_to_hour=minutes_in_hour/60\nprint(convert_min_to_hour)",
      "metadata": {
        "trusted": true
      },
      "execution_count": 5,
      "outputs": [
        {
          "name": "stdout",
          "text": "1.6666666666666667\n",
          "output_type": "stream"
        }
      ]
    },
    {
      "cell_type": "markdown",
      "source": "9.Insert a markdown cell to list Objectives.\n list the objectives that this notebook covered\n \n objective:\n \n \n 1. data science languages \n 2. data science tools\n 3. notebook basic functions ",
      "metadata": {}
    },
    {
      "cell_type": "markdown",
      "source": "AUTHOR:\nPRATEEK",
      "metadata": {}
    },
    {
      "cell_type": "code",
      "source": "",
      "metadata": {},
      "execution_count": null,
      "outputs": []
    }
  ]
}